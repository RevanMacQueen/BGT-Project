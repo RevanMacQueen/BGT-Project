{
 "cells": [
  {
   "cell_type": "code",
   "execution_count": 1,
   "metadata": {},
   "outputs": [],
   "source": [
    "import csv\n",
    "import numpy as np\n",
    "import pandas as pd\n",
    "import utils \n",
    "from copy import deepcopy\n",
    "import seaborn as sns\n",
    "\n",
    "from scipy.optimize import minimize, LinearConstraint\n",
    "from scipy.special import softmax"
   ]
  },
  {
   "cell_type": "code",
   "execution_count": 2,
   "metadata": {},
   "outputs": [],
   "source": [
    "data = np.genfromtxt('repeated_data.csv', delimiter=',', dtype=str)\n",
    "data = np.delete(data, 0, 0)"
   ]
  },
  {
   "cell_type": "code",
   "execution_count": 3,
   "metadata": {},
   "outputs": [],
   "source": [
    "new_data = []\n",
    "\n",
    "# turn each game into entry in this array\n",
    "\n",
    "def remove_blank(l):\n",
    "    return list(filter(lambda a: a != '', l))\n",
    "\n",
    "def replace_letters(l):\n",
    "   return [[1,0] if x=='c' else [0, 1] for x in l]\n",
    "\n",
    "for i in range(0, data.shape[0], 2):\n",
    "    p1 = data[i]\n",
    "    p2 = data[i+1]\n",
    "\n",
    "    game = int(p1[0])\n",
    "    player1 = p1[2]\n",
    "    player2 = p2[2]\n",
    "    p1_actions = np.array(replace_letters(remove_blank(p1[3:]))).T\n",
    "    p2_actions =  np.array(replace_letters(remove_blank(p2[3:]))).T\n",
    "   \n",
    "    actions =  [p1_actions, p2_actions]\n",
    "\n",
    "    new_data.append([game, player1, player2, actions])"
   ]
  },
  {
   "cell_type": "code",
   "execution_count": 4,
   "metadata": {},
   "outputs": [],
   "source": [
    "df = pd.DataFrame(new_data)\n",
    "df.columns = ['Game', 'Player_1', 'Player_2', 'Actions']"
   ]
  },
  {
   "cell_type": "code",
   "execution_count": 5,
   "metadata": {},
   "outputs": [
    {
     "data": {
      "text/html": [
       "<div>\n",
       "<style scoped>\n",
       "    .dataframe tbody tr th:only-of-type {\n",
       "        vertical-align: middle;\n",
       "    }\n",
       "\n",
       "    .dataframe tbody tr th {\n",
       "        vertical-align: top;\n",
       "    }\n",
       "\n",
       "    .dataframe thead th {\n",
       "        text-align: right;\n",
       "    }\n",
       "</style>\n",
       "<table border=\"1\" class=\"dataframe\">\n",
       "  <thead>\n",
       "    <tr style=\"text-align: right;\">\n",
       "      <th></th>\n",
       "      <th>Game</th>\n",
       "      <th>Player_1</th>\n",
       "      <th>Player_2</th>\n",
       "      <th>Actions</th>\n",
       "    </tr>\n",
       "  </thead>\n",
       "  <tbody>\n",
       "    <tr>\n",
       "      <th>0</th>\n",
       "      <td>0</td>\n",
       "      <td>Faisal</td>\n",
       "      <td>Bharathvaj</td>\n",
       "      <td>[[[0, 1, 1, 1, 0], [1, 0, 0, 0, 1]], [[1, 0, 1...</td>\n",
       "    </tr>\n",
       "    <tr>\n",
       "      <th>1</th>\n",
       "      <td>1</td>\n",
       "      <td>Yuan</td>\n",
       "      <td>Dagmar</td>\n",
       "      <td>[[[1, 0, 0], [0, 1, 1]], [[1, 1, 0], [0, 0, 1]]]</td>\n",
       "    </tr>\n",
       "    <tr>\n",
       "      <th>2</th>\n",
       "      <td>2</td>\n",
       "      <td>Ehsan</td>\n",
       "      <td>Mohammend</td>\n",
       "      <td>[[[1, 1, 0, 0, 1, 1, 1, 1, 1, 1, 0, 0], [0, 0,...</td>\n",
       "    </tr>\n",
       "    <tr>\n",
       "      <th>3</th>\n",
       "      <td>3</td>\n",
       "      <td>Tao</td>\n",
       "      <td>Rohini</td>\n",
       "      <td>[[[0, 1, 0, 1, 1], [1, 0, 1, 0, 0]], [[1, 0, 0...</td>\n",
       "    </tr>\n",
       "    <tr>\n",
       "      <th>4</th>\n",
       "      <td>4</td>\n",
       "      <td>Anita</td>\n",
       "      <td>Greg</td>\n",
       "      <td>[[[1, 1, 0, 1, 1, 1, 0], [0, 0, 1, 0, 0, 0, 1]...</td>\n",
       "    </tr>\n",
       "  </tbody>\n",
       "</table>\n",
       "</div>"
      ],
      "text/plain": [
       "   Game Player_1    Player_2  \\\n",
       "0     0   Faisal  Bharathvaj   \n",
       "1     1    Yuan       Dagmar   \n",
       "2     2    Ehsan   Mohammend   \n",
       "3     3      Tao      Rohini   \n",
       "4     4    Anita        Greg   \n",
       "\n",
       "                                             Actions  \n",
       "0  [[[0, 1, 1, 1, 0], [1, 0, 0, 0, 1]], [[1, 0, 1...  \n",
       "1   [[[1, 0, 0], [0, 1, 1]], [[1, 1, 0], [0, 0, 1]]]  \n",
       "2  [[[1, 1, 0, 0, 1, 1, 1, 1, 1, 1, 0, 0], [0, 0,...  \n",
       "3  [[[0, 1, 0, 1, 1], [1, 0, 1, 0, 0]], [[1, 0, 0...  \n",
       "4  [[[1, 1, 0, 1, 1, 1, 0], [0, 0, 1, 0, 0, 0, 1]...  "
      ]
     },
     "execution_count": 5,
     "metadata": {},
     "output_type": "execute_result"
    }
   ],
   "source": [
    "df.head()"
   ]
  },
  {
   "cell_type": "code",
   "execution_count": 6,
   "metadata": {},
   "outputs": [],
   "source": [
    "data = list(df.Actions)"
   ]
  },
  {
   "cell_type": "code",
   "execution_count": 7,
   "metadata": {},
   "outputs": [],
   "source": [
    "from tqdm import tqdm"
   ]
  },
  {
   "cell_type": "code",
   "execution_count": 8,
   "metadata": {},
   "outputs": [],
   "source": [
    "def ll_uniform(dataset):\n",
    "    ll = 0\n",
    "    for play in dataset: \n",
    "        for player in range(2):\n",
    "            traj = play[player]\n",
    "            s = np.ones(2) / 2\n",
    "            \n",
    "            L = traj.shape[1] #length of trajectory\n",
    "            for l in range(L):\n",
    "                idx = np.where(traj[:, l])\n",
    "                ll += np.log(s[idx[0][0]])\n",
    "        \n",
    "    return -ll"
   ]
  },
  {
   "cell_type": "code",
   "execution_count": 9,
   "metadata": {},
   "outputs": [],
   "source": [
    "def k_folds(data, m):\n",
    "    results = []\n",
    "    test_losses = []\n",
    "    for i in range(len(data)):\n",
    "        train_data = deepcopy(data)\n",
    "        test_data = deepcopy(train_data[i])\n",
    "        del train_data[i]\n",
    "\n",
    "        res = m.fit(train_data)\n",
    "        params = res.x\n",
    "        test_loss = m.log_likelihood(params, [test_data])\n",
    "        results.append(res)\n",
    "        test_losses.append(test_loss)\n",
    "\n",
    "    return results, test_losses\n"
   ]
  },
  {
   "cell_type": "code",
   "execution_count": 10,
   "metadata": {},
   "outputs": [
    {
     "name": "stderr",
     "output_type": "stream",
     "text": [
      "100%|██████████| 4/4 [02:17<00:00, 34.28s/it]\n"
     ]
    }
   ],
   "source": [
    "# K-folds on level k\n",
    "from models import Level_K_Model\n",
    "\n",
    "all_lk = []\n",
    "for k in tqdm(range(0, 4)):\n",
    "    m = Level_K_Model(k)\n",
    "    results_LK, LL_LK =  k_folds(data, m)\n",
    "    all_lk.append([results_LK, LL_LK])\n",
    "        "
   ]
  },
  {
   "cell_type": "code",
   "execution_count": null,
   "metadata": {},
   "outputs": [],
   "source": []
  },
  {
   "cell_type": "code",
   "execution_count": 22,
   "metadata": {},
   "outputs": [],
   "source": [
    "from models import Temporal_Level_Model\n",
    "\n",
    "m = Temporal_Level_Model()\n",
    "results_TLM, LL_TLM = k_folds(data, m)\n",
    "        "
   ]
  },
  {
   "cell_type": "code",
   "execution_count": 23,
   "metadata": {},
   "outputs": [],
   "source": [
    "from models import Temporal_Model\n",
    "\n",
    "m = Temporal_Model()\n",
    "results_TM, LL_TM = k_folds(data, m)"
   ]
  },
  {
   "cell_type": "code",
   "execution_count": 31,
   "metadata": {},
   "outputs": [],
   "source": [
    "import matplotlib.pyplot as plt"
   ]
  },
  {
   "cell_type": "code",
   "execution_count": 44,
   "metadata": {},
   "outputs": [
    {
     "name": "stderr",
     "output_type": "stream",
     "text": [
      "100%|██████████| 4/4 [00:15<00:00,  3.84s/it]\n"
     ]
    }
   ],
   "source": [
    "# results on all train data\n",
    "\n",
    "# K-folds on level k\n",
    "from models import Level_K_Model\n",
    "results = []\n",
    "models = []\n",
    "\n",
    "\n",
    "for k in tqdm(range(0, 4)):\n",
    "    m = Level_K_Model(k)\n",
    "    r = m.fit(data)\n",
    "    results.append(r)\n",
    "    models.append(m)\n",
    "    \n",
    "m =  Temporal_Level_Model()\n",
    "r = m.fit(data)\n",
    "results.append(r)\n",
    "models.append(m)\n",
    "\n",
    "m = Temporal_Model()\n",
    "r = m.fit(data)\n",
    "results.append(r)\n",
    "models.append(m)\n",
    "\n"
   ]
  },
  {
   "cell_type": "code",
   "execution_count": 67,
   "metadata": {},
   "outputs": [
    {
     "data": {
      "image/png": "[encoded data removed]",
      "text/plain": [
       "<Figure size 720x240 with 1 Axes>"
      ]
     },
     "metadata": {
      "needs_background": "light"
     },
     "output_type": "display_data"
    }
   ],
   "source": [
    "from matplotlib.pyplot import figure\n",
    "\n",
    "figure(figsize=(9, 3), dpi=80)\n",
    "\n",
    "plt.bar( range(len(results)+1),  [r.fun-110 for r in results] + [ll_uniform(data)-110], bottom=110)\n",
    "plt.ylabel(\"Negative Log Likelihood\")\n",
    "\n",
    "locs, labels = plt.xticks()\n",
    "labels = [''] + [  'Level-{}'.format(k) for k in range(4)]\n",
    "labels += ['Temporal Type', 'Temporal Value', 'Uniform', '']\n",
    "plt.xticks(locs, labels , rotation=30  )\n",
    "\n",
    "plt.savefig('figures/ll_train.pdf', bbox_inches='tight')"
   ]
  },
  {
   "cell_type": "code",
   "execution_count": 37,
   "metadata": {},
   "outputs": [],
   "source": [
    "#uniform\n",
    "results_uniform = []\n",
    "test_losses_uniform = []\n",
    "for i in range(len(data)):\n",
    "    train_data = deepcopy(data)\n",
    "    test_data = deepcopy(train_data[i])\n",
    "    del train_data[i]\n",
    "\n",
    "    results_uniform.append(ll_uniform(train_data))\n",
    "    test_losses_uniform.append(ll_uniform([test_data]))"
   ]
  },
  {
   "cell_type": "code",
   "execution_count": 69,
   "metadata": {},
   "outputs": [
    {
     "data": {
      "image/png": "[encoded data removed]",
      "text/plain": [
       "<Figure size 720x240 with 1 Axes>"
      ]
     },
     "metadata": {
      "needs_background": "light"
     },
     "output_type": "display_data"
    }
   ],
   "source": [
    "all_results = all_lk + [[results_TLM, LL_TLM] ,[results_TM, LL_TM], ]\n",
    "\n",
    "plot_data = []\n",
    "for r in all_results:\n",
    "    result_list = r[0]\n",
    "\n",
    "\n",
    "    train_losses = [x.fun for x in result_list]\n",
    "\n",
    "    plot_data.append(train_losses)\n",
    "\n",
    "plot_data.append(results_uniform)\n",
    "\n",
    "figure(figsize=(9, 3), dpi=80)\n",
    "plt.boxplot(plot_data)\n",
    "plt.ylabel(\"Negative Log Likelihood\")\n",
    "\n",
    "locs, labels = plt.xticks()\n",
    "labels = ['Level-{}'.format(k) for k in range(4)]\n",
    "labels += ['Temporal Type', 'Temporal Value', 'Uniform']\n",
    "plt.xticks(locs, labels , rotation=30  )\n",
    "\n",
    "plt.savefig('figures/ll_train_cross.pdf', bbox_inches='tight')"
   ]
  },
  {
   "cell_type": "code",
   "execution_count": 70,
   "metadata": {},
   "outputs": [
    {
     "data": {
      "image/png": "[encoded data removed]",
      "text/plain": [
       "<Figure size 720x240 with 1 Axes>"
      ]
     },
     "metadata": {
      "needs_background": "light"
     },
     "output_type": "display_data"
    }
   ],
   "source": [
    "all_results = all_lk + [[results_TLM, LL_TLM] ,[results_TM, LL_TM], ]\n",
    "\n",
    "plot_data = []\n",
    "for r in all_results:\n",
    "    result_list = r[1]\n",
    "    plot_data.append(result_list)\n",
    "\n",
    "plot_data.append(test_losses_uniform)\n",
    "figure(figsize=(9, 3), dpi=80)\n",
    "plt.boxplot(plot_data)\n",
    "plt.ylabel(\"Negative Log Likelihood\")\n",
    "\n",
    "locs, labels = plt.xticks()\n",
    "labels = ['Level-{}'.format(k) for k in range(4)]\n",
    "labels += ['Temporal Type', 'Temporal Value', 'Uniform']\n",
    "plt.xticks(locs, labels , rotation=30)\n",
    "\n",
    "\n",
    "plt.savefig('figures/ll_test_cross.pdf', bbox_inches='tight')"
   ]
  }
 ],
 "metadata": {
  "interpreter": {
   "hash": "174d5a967417a2ba15b92fee30b6658756f13acfa6c5a4bc13885d05104c7799"
  },
  "kernelspec": {
   "display_name": "Python 3.8.12 ('bgt')",
   "language": "python",
   "name": "python3"
  },
  "language_info": {
   "codemirror_mode": {
    "name": "ipython",
    "version": 3
   },
   "file_extension": ".py",
   "mimetype": "text/x-python",
   "name": "python",
   "nbconvert_exporter": "python",
   "pygments_lexer": "ipython3",
   "version": "3.8.12"
  },
  "orig_nbformat": 4
 },
 "nbformat": 4,
 "nbformat_minor": 2
}
