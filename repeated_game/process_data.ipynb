{
 "cells": [
  {
   "cell_type": "code",
   "execution_count": 108,
   "metadata": {},
   "outputs": [],
   "source": [
    "import csv\n",
    "import numpy as np\n",
    "import pandas as pd\n",
    "import utils "
   ]
  },
  {
   "cell_type": "code",
   "execution_count": 109,
   "metadata": {},
   "outputs": [],
   "source": []
  },
  {
   "cell_type": "code",
   "execution_count": 40,
   "metadata": {},
   "outputs": [],
   "source": [
    "data = np.genfromtxt('repeated_data.csv', delimiter=',', dtype=str)\n",
    "data = np.delete(data, 0, 0)"
   ]
  },
  {
   "cell_type": "code",
   "execution_count": 42,
   "metadata": {},
   "outputs": [
    {
     "data": {
      "text/plain": [
       "(28, 17)"
      ]
     },
     "execution_count": 42,
     "metadata": {},
     "output_type": "execute_result"
    }
   ],
   "source": [
    "data.shape"
   ]
  },
  {
   "cell_type": "code",
   "execution_count": 84,
   "metadata": {},
   "outputs": [],
   "source": [
    "new_data = []\n",
    "\n",
    "# turn each game into entry in this array\n",
    "\n",
    "def remove_blank(l):\n",
    "    return list(filter(lambda a: a != '', l))\n",
    "\n",
    "def replace_letters(l):\n",
    "   return [0 if x=='c' else 1 for x in l]\n",
    "\n",
    "for i in range(0, data.shape[0], 2):\n",
    "    p1 = data[i]\n",
    "    p2 = data[i+1]\n",
    "\n",
    "    game = int(p1[0])\n",
    "    player1 = p1[2]\n",
    "    player2 = p2[2]\n",
    "    p1_actions = replace_letters(remove_blank(p1[3:]))\n",
    "    p2_actions = replace_letters(remove_blank(p2[3:]))\n",
    "    actions = np.vstack((p1_actions, p2_actions))\n",
    "\n",
    "    new_data.append([game, player1, player2, actions])\n"
   ]
  },
  {
   "cell_type": "code",
   "execution_count": 85,
   "metadata": {},
   "outputs": [],
   "source": [
    "df = pd.DataFrame(new_data)\n",
    "df.columns = ['Game', 'Player_1', 'Player_2', 'Actions']"
   ]
  },
  {
   "cell_type": "code",
   "execution_count": 86,
   "metadata": {},
   "outputs": [
    {
     "data": {
      "text/html": [
       "<div>\n",
       "<style scoped>\n",
       "    .dataframe tbody tr th:only-of-type {\n",
       "        vertical-align: middle;\n",
       "    }\n",
       "\n",
       "    .dataframe tbody tr th {\n",
       "        vertical-align: top;\n",
       "    }\n",
       "\n",
       "    .dataframe thead th {\n",
       "        text-align: right;\n",
       "    }\n",
       "</style>\n",
       "<table border=\"1\" class=\"dataframe\">\n",
       "  <thead>\n",
       "    <tr style=\"text-align: right;\">\n",
       "      <th></th>\n",
       "      <th>Game</th>\n",
       "      <th>Player_1</th>\n",
       "      <th>Player_2</th>\n",
       "      <th>Actions</th>\n",
       "    </tr>\n",
       "  </thead>\n",
       "  <tbody>\n",
       "    <tr>\n",
       "      <th>0</th>\n",
       "      <td>0</td>\n",
       "      <td>Faisal</td>\n",
       "      <td>Bharathvaj</td>\n",
       "      <td>[[1, 0, 0, 0, 1], [0, 1, 0, 1, 1]]</td>\n",
       "    </tr>\n",
       "    <tr>\n",
       "      <th>1</th>\n",
       "      <td>1</td>\n",
       "      <td>yuan</td>\n",
       "      <td>Dagmar</td>\n",
       "      <td>[[0, 1, 1], [0, 0, 1]]</td>\n",
       "    </tr>\n",
       "    <tr>\n",
       "      <th>2</th>\n",
       "      <td>2</td>\n",
       "      <td>Ehsan</td>\n",
       "      <td>Mohammend</td>\n",
       "      <td>[[0, 0, 1, 1, 0, 0, 0, 0, 0, 0, 1, 1], [0, 0, ...</td>\n",
       "    </tr>\n",
       "    <tr>\n",
       "      <th>3</th>\n",
       "      <td>3</td>\n",
       "      <td>Tao</td>\n",
       "      <td>Rohini</td>\n",
       "      <td>[[1, 0, 1, 0, 0], [0, 1, 1, 0, 0]]</td>\n",
       "    </tr>\n",
       "    <tr>\n",
       "      <th>4</th>\n",
       "      <td>4</td>\n",
       "      <td>Anita</td>\n",
       "      <td>Greg</td>\n",
       "      <td>[[0, 0, 1, 0, 0, 0, 1], [0, 0, 0, 1, 0, 0, 0]]</td>\n",
       "    </tr>\n",
       "  </tbody>\n",
       "</table>\n",
       "</div>"
      ],
      "text/plain": [
       "   Game Player_1    Player_2  \\\n",
       "0     0   Faisal  Bharathvaj   \n",
       "1     1    yuan       Dagmar   \n",
       "2     2    Ehsan   Mohammend   \n",
       "3     3      Tao      Rohini   \n",
       "4     4    Anita        Greg   \n",
       "\n",
       "                                             Actions  \n",
       "0                 [[1, 0, 0, 0, 1], [0, 1, 0, 1, 1]]  \n",
       "1                             [[0, 1, 1], [0, 0, 1]]  \n",
       "2  [[0, 0, 1, 1, 0, 0, 0, 0, 0, 0, 1, 1], [0, 0, ...  \n",
       "3                 [[1, 0, 1, 0, 0], [0, 1, 1, 0, 0]]  \n",
       "4     [[0, 0, 1, 0, 0, 0, 1], [0, 0, 0, 1, 0, 0, 0]]  "
      ]
     },
     "execution_count": 86,
     "metadata": {},
     "output_type": "execute_result"
    }
   ],
   "source": [
    "df.head()"
   ]
  },
  {
   "cell_type": "code",
   "execution_count": 91,
   "metadata": {},
   "outputs": [],
   "source": [
    "plays = np.zeros((2,2))\n",
    "\n",
    "\n",
    "for i, row in df.iterrows():\n",
    "    actions = row.Actions\n",
    "    for round in range(actions.shape[1]):\n",
    "        play = actions[:, round]\n",
    "        outcome = play[0]*2 + play[1]\n",
    "        row_idx = outcome  // 2\n",
    "        col_idx = outcome % 2\n",
    "        plays[row_idx, col_idx] += 1"
   ]
  },
  {
   "cell_type": "code",
   "execution_count": 92,
   "metadata": {},
   "outputs": [
    {
     "data": {
      "text/plain": [
       "array([[0.30232558, 0.18604651],\n",
       "       [0.26744186, 0.24418605]])"
      ]
     },
     "execution_count": 92,
     "metadata": {},
     "output_type": "execute_result"
    }
   ],
   "source": [
    "# frequency of each outcome\n",
    "plays/np.sum(plays)"
   ]
  },
  {
   "cell_type": "markdown",
   "metadata": {},
   "source": [
    "# Model 1: Players (Quantally) Best Respond to a Sub-History"
   ]
  },
  {
   "cell_type": "code",
   "execution_count": 106,
   "metadata": {},
   "outputs": [],
   "source": [
    "def EU(actions):\n",
    "    '''\n",
    "    Given actions by both players returns the sum of payoffs for each player\n",
    "    '''\n",
    "\n",
    "    player_0_payoffs = [0, -1, 1, -2] # row payoffs\n",
    "    player_1_payoffs = [0, 1, -1, -2] # col payoffs\n",
    "\n",
    "    player_0_sum = 0\n",
    "    player_1_sum = 0\n",
    "    for round in actions.T:\n",
    "\n",
    "        outcome = round[ 0]*2 + round# [1]\n",
    "        player_0_sum += player_0_payoffs[outcome]\n",
    "        player_1_sum += player_1_payoffs[outcome]\n",
    "    \n",
    "    return player_0_sum, player_1_sum"
   ]
  },
  {
   "cell_type": "code",
   "execution_count": 101,
   "metadata": {},
   "outputs": [],
   "source": [
    "# this is pretty much quantal regret. I'll read the paper tomorrow and implement this method\n",
    "\n",
    "def quantal_history_best_response(actions, k):\n",
    "    '''\n",
    "    actions : (np.array) both of the player's actions\n",
    "    k : (int) the length of the subhistory considered \n",
    "    '''\n",
    "    \n",
    "    def best_response(last_k_moves):\n",
    "        action_0_moves = np.zeros_like(last_k_moves)\n",
    "        action_1_moves = np.ones_like(last_k_moves)\n",
    "\n",
    "\n",
    "    for round in range(actions.shape[1]):\n",
    "        for player in range(0,2):\n",
    "\n",
    "            if k > round:\n",
    "                last_k_moves = actions[1-player, 0:round]\n",
    "            else:\n",
    "                last_k_moves = actions[1-player, round-k:round] # last k moves by the opponent"
   ]
  },
  {
   "cell_type": "code",
   "execution_count": 107,
   "metadata": {},
   "outputs": [
    {
     "name": "stdout",
     "output_type": "stream",
     "text": [
      "[[1 0 0 0 1]\n",
      " [0 1 0 1 1]]\n",
      "(-3, -1)\n"
     ]
    },
    {
     "ename": "AssertionError",
     "evalue": "",
     "output_type": "error",
     "traceback": [
      "\u001b[0;31m---------------------------------------------------------------------------\u001b[0m",
      "\u001b[0;31mAssertionError\u001b[0m                            Traceback (most recent call last)",
      "\u001b[1;32m/Users/RevanMacQueen/Projects/BGT-Project/repeated_game/process_data.ipynb Cell 13'\u001b[0m in \u001b[0;36m<cell line: 1>\u001b[0;34m()\u001b[0m\n\u001b[1;32m      <a href='vscode-notebook-cell:/Users/RevanMacQueen/Projects/BGT-Project/repeated_game/process_data.ipynb#ch0000017?line=3'>4</a>\u001b[0m \u001b[39mprint\u001b[39m(EU(actions))\n\u001b[1;32m      <a href='vscode-notebook-cell:/Users/RevanMacQueen/Projects/BGT-Project/repeated_game/process_data.ipynb#ch0000017?line=4'>5</a>\u001b[0m \u001b[39m#quantal_history_best_response(actions, 2)\u001b[39;00m\n\u001b[0;32m----> <a href='vscode-notebook-cell:/Users/RevanMacQueen/Projects/BGT-Project/repeated_game/process_data.ipynb#ch0000017?line=5'>6</a>\u001b[0m \u001b[39massert\u001b[39;00m \u001b[39mFalse\u001b[39;00m\n",
      "\u001b[0;31mAssertionError\u001b[0m: "
     ]
    }
   ],
   "source": [
    "\n",
    "for i, row in df.iterrows():\n",
    "    actions = row.Actions\n",
    "    print(actions)\n",
    "    print(EU(actions))\n",
    "    #quantal_history_best_response(actions, 2)\n",
    "    assert False"
   ]
  },
  {
   "cell_type": "code",
   "execution_count": 110,
   "metadata": {},
   "outputs": [],
   "source": [
    "payoffs = np.zeros([2, 2, 2])\n",
    "payoffs[0, :, :] = np.array([[0, -1],\n",
    "                            [1, -2]])\n",
    "payoffs[1, :, :] = np.array([[0, 1],\n",
    "                            [-1, -2]])"
   ]
  },
  {
   "cell_type": "code",
   "execution_count": null,
   "metadata": {},
   "outputs": [],
   "source": [
    "class Level_K_Model:\n",
    "    def __init__(self, K):\n",
    "        self.K = K\n",
    "        self.payoffs = [[0, -1, 1, -2],\n",
    "                        [0, 1, -1, -2]]     # row payoffs\n",
    "        self.alphas = np.zeros((K, 1))\n",
    "\n",
    "\n",
    "    def log_likelihood(self, dataset):\n",
    "        '''\n",
    "        Given the dataset and the fitted model, returns the log likelihood \n",
    "        \n",
    "        dataset : list of plays, each play is an np array\n",
    "        '''\n",
    "\n",
    "\n",
    "        for play in dataset:\n",
    "\n",
    "\n",
    "\n",
    "\n",
    "    def fit():\n",
    "\n",
    "        \n",
    "        \n",
    "        \n",
    "\n",
    "\n",
    "\n",
    "\n",
    "\n",
    "\n",
    "\n",
    "\n",
    "\n",
    "\n",
    "        \n",
    "        \n",
    "\n",
    "\n",
    "    def compute_BR(self, i, s_other):\n",
    "        '''\n",
    "        i : index of player for whom we are computing BR\n",
    "        s_other : strategy profile of other player\n",
    "        '''\n",
    "    \n",
    "        # get EU of action 0\n",
    "        if i == 0:\n",
    "            s = [np.array([1, 0]), s_other]\n",
    "        else:\n",
    "            s = [s_other, np.array([1, 0])]\n",
    "        eu_0 = utils.expected_utility(s, self.payoffs)\n",
    "\n",
    "        # get EU of action 1\n",
    "        if i == 0:\n",
    "            s = [np.array([0, 1]), s_other]\n",
    "        else:\n",
    "            s = [s_other, np.array([0, 1])]\n",
    "        eu_1 = utils.expected_utility(s, self.payoffs)\n",
    "\n",
    "        # return action with greater EU\n",
    "        if eu_0 >= eu_1:\n",
    "            return np.array([1, 0])\n",
    "        else:\n",
    "            return np.array([0, 1])\n",
    "\n",
    "\n",
    "    def predict(self, history=None):\n",
    "        predictions = np.zeros((4, self.k)) # first two rows are mixed strategy of first player, second two are of second player\n",
    "        \n",
    "        # level-0 base case\n",
    "        if history == None:\n",
    "            predictions[0:2, 0] = np.array([0.5, 0.5])\n",
    "            predictions[2:4, 0] = np.array([0.5, 0.5])\n",
    "        else:\n",
    "            predictions[0:2, 0] = np.sum(history[0:2, :], axis=1)/ np.sum(history[0:2, :])\n",
    "            predictions[2:4, 0] = np.sum(history[2:4, :], axis=1)/ np.sum(history[2:4, :])\n",
    "\n",
    "        \n",
    "        for k in range(1, self.K):\n",
    "            for player in range(0,2):\n",
    "                # best respond to 1 level lower\n",
    "                if player == 0:\n",
    "                    predictions[0:2, k] = self.compute_BR(player,  predictions[2:4, k-1])\n",
    "                else:\n",
    "                    predictions[2:4, k] = self.compute_BR(player,  predictions[0:2, k-1])\n",
    "\n",
    "\n",
    "        # return overall predictions\n",
    "        p0_prediction = np.matmul(predictions[0:2, :], self.alphas)\n",
    "        p1_prediction = np.matmul(predictions[2:4, :], self.alphas)\n",
    "\n",
    "        return p0_prediction, p1_prediction\n"
   ]
  },
  {
   "cell_type": "code",
   "execution_count": null,
   "metadata": {},
   "outputs": [],
   "source": [
    "# another one: player play as if their opponent is going to best resond to their last move\n",
    "# generalization : level_0 strategy is some function of the history,  then players either use CH or level-k to produce the strategy for the next\n",
    "# iteraion"
   ]
  }
 ],
 "metadata": {
  "interpreter": {
   "hash": "174d5a967417a2ba15b92fee30b6658756f13acfa6c5a4bc13885d05104c7799"
  },
  "kernelspec": {
   "display_name": "Python 3.8.12 ('bgt')",
   "language": "python",
   "name": "python3"
  },
  "language_info": {
   "codemirror_mode": {
    "name": "ipython",
    "version": 3
   },
   "file_extension": ".py",
   "mimetype": "text/x-python",
   "name": "python",
   "nbconvert_exporter": "python",
   "pygments_lexer": "ipython3",
   "version": "3.8.12"
  },
  "orig_nbformat": 4
 },
 "nbformat": 4,
 "nbformat_minor": 2
}
