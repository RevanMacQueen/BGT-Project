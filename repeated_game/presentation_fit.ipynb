{
 "cells": [
  {
   "cell_type": "markdown",
   "metadata": {},
   "source": [
    "# Figures and Results for Presentation"
   ]
  },
  {
   "cell_type": "code",
   "execution_count": 1,
   "metadata": {},
   "outputs": [],
   "source": [
    "import csv\n",
    "import numpy as np\n",
    "import pandas as pd\n",
    "import utils \n",
    "from copy import deepcopy\n",
    "import seaborn as sns\n",
    "\n",
    "from scipy.optimize import minimize, LinearConstraint\n",
    "from scipy.special import softmax\n",
    "\n",
    "from models import Level_K_Model, Temporal_Level_Model\n",
    "from hist_models import History_Mapping_Model,  Bounded_Memory_Map\n",
    "\n",
    "import matplotlib.pyplot as plt"
   ]
  },
  {
   "cell_type": "code",
   "execution_count": 2,
   "metadata": {},
   "outputs": [],
   "source": [
    "def ll_uniform(dataset):\n",
    "    ll = 0\n",
    "    for play in dataset: \n",
    "        for player in range(2):\n",
    "            traj = play[player]\n",
    "            s = np.ones(2) / 2\n",
    "            \n",
    "            L = traj.shape[1] #length of trajectory\n",
    "            for l in range(L):\n",
    "                idx = np.where(traj[:, l])\n",
    "                ll += np.log(s[idx[0][0]])\n",
    "        \n",
    "    return -ll"
   ]
  },
  {
   "cell_type": "code",
   "execution_count": 3,
   "metadata": {},
   "outputs": [],
   "source": [
    "def ll_fixed_strat(dataset, S):\n",
    "    ll = 0\n",
    "    for play in dataset: \n",
    "        for player in range(2):\n",
    "            traj = play[player]\n",
    "            s = S[player]\n",
    "            \n",
    "            L = traj.shape[1] #length of trajectory\n",
    "            for l in range(L):\n",
    "                idx = np.where(traj[:, l])\n",
    "                ll += np.log(s[idx[0][0]])\n",
    "\n",
    "    return -ll\n"
   ]
  },
  {
   "cell_type": "code",
   "execution_count": 4,
   "metadata": {},
   "outputs": [],
   "source": [
    "data = utils.load_data('data_new.csv')\n",
    "test_data = utils.load_data('general_data.csv')"
   ]
  },
  {
   "cell_type": "code",
   "execution_count": 5,
   "metadata": {},
   "outputs": [
    {
     "data": {
      "image/png": "[encoded data removed]",
      "text/plain": [
       "<Figure size 432x288 with 1 Axes>"
      ]
     },
     "metadata": {
      "needs_background": "light"
     },
     "output_type": "display_data"
    }
   ],
   "source": [
    "# Predictions of Models for NF games\n",
    "\n",
    "fixed_prediction = {\n",
    "    'LK'  :  [np.array([0.5, 0.5]),   np.array([0.5, 0.5])],\n",
    "    'LK+QBR' : [np.array([0.5, 0.5]),  np.array([0.5 ,0.5])],\n",
    "    'LK+L4' :  [np.array([0.4538946, 0.5461054]),   np.array([0.4538946, 0.5461054])],\n",
    "    'CH' : [np.array([0.5, 0.5]),  np.array([0.5, 0.5])],\n",
    "    'CH+QBR': [np.array([0.5, 0.5]),  np.array([0.5, 0.5])],\n",
    "    'CH+L4': [np.array([0.52931229, 0.47068771]) , np.array([0.52931229 ,0.47068771])]\n",
    "}\n",
    "\n",
    "labels = ['Uniform']\n",
    "nlls = [ll_uniform(data)]\n",
    "\n",
    "for k, v in fixed_prediction.items():\n",
    "    nll = ll_fixed_strat(data, v)\n",
    "\n",
    "    labels.append(k)\n",
    "    nlls.append(nll)\n",
    "\n",
    "\n",
    "start = 175\n",
    "x_pos = np.arange(0, len(labels))\n",
    "plt.bar(x_pos, np.array(nlls)-start, bottom=start)\n",
    "plt.ylabel('Negative Log Likelihood')\n",
    "plt.xticks(x_pos, labels , rotation=30  )\n",
    "\n",
    "\n",
    "plt.gca().spines['top'].set_visible(False)\n",
    "plt.gca().spines['right'].set_visible(False)\n",
    "plt.savefig('presentation_figures/default_models.png', dpi=300, bbox_inches='tight')\n"
   ]
  },
  {
   "cell_type": "code",
   "execution_count": 8,
   "metadata": {},
   "outputs": [],
   "source": [
    "models = [Level_K_Model(1), Level_K_Model(2),  History_Mapping_Model(1), Bounded_Memory_Map(1)]"
   ]
  },
  {
   "cell_type": "code",
   "execution_count": 9,
   "metadata": {},
   "outputs": [],
   "source": [
    "train_ll = np.zeros(len(models)+1)\n",
    "test_ll = np.zeros(len(models)+1)\n",
    "\n",
    "train_ll[0] = ll_uniform(data)\n",
    "test_ll[0] = ll_uniform(test_data)\n",
    "\n",
    "for i, m in enumerate(models):\n",
    "    results = m.fit(data)\n",
    "    params = results.x\n",
    "    test_ll[i+1] =  m.log_likelihood(params, test_data)\n",
    "    train_ll[i+1] = results.fun\n"
   ]
  },
  {
   "cell_type": "code",
   "execution_count": 10,
   "metadata": {},
   "outputs": [
    {
     "ename": "ValueError",
     "evalue": "shape mismatch: objects cannot be broadcast to a single shape.  Mismatch is between arg 0 with shape (4,) and arg 1 with shape (5,).",
     "output_type": "error",
     "traceback": [
      "\u001b[0;31m---------------------------------------------------------------------------\u001b[0m",
      "\u001b[0;31mValueError\u001b[0m                                Traceback (most recent call last)",
      "\u001b[1;32m/Users/RevanMacQueen/Projects/BGT-Project/repeated_game/presentation_fit.ipynb Cell 9'\u001b[0m in \u001b[0;36m<cell line: 6>\u001b[0;34m()\u001b[0m\n\u001b[1;32m      <a href='vscode-notebook-cell:/Users/RevanMacQueen/Projects/BGT-Project/repeated_game/presentation_fit.ipynb#ch0000008?line=2'>3</a>\u001b[0m start \u001b[39m=\u001b[39m \u001b[39m150\u001b[39m\n\u001b[1;32m      <a href='vscode-notebook-cell:/Users/RevanMacQueen/Projects/BGT-Project/repeated_game/presentation_fit.ipynb#ch0000008?line=4'>5</a>\u001b[0m x_pos \u001b[39m=\u001b[39m np\u001b[39m.\u001b[39marange(\u001b[39m0\u001b[39m, \u001b[39mlen\u001b[39m(labels))\n\u001b[0;32m----> <a href='vscode-notebook-cell:/Users/RevanMacQueen/Projects/BGT-Project/repeated_game/presentation_fit.ipynb#ch0000008?line=5'>6</a>\u001b[0m plt\u001b[39m.\u001b[39;49mbar(x_pos, train_ll\u001b[39m-\u001b[39;49mstart, bottom\u001b[39m=\u001b[39;49mstart)\n\u001b[1;32m      <a href='vscode-notebook-cell:/Users/RevanMacQueen/Projects/BGT-Project/repeated_game/presentation_fit.ipynb#ch0000008?line=6'>7</a>\u001b[0m plt\u001b[39m.\u001b[39mylabel(\u001b[39m'\u001b[39m\u001b[39mNegative Log Likelihood\u001b[39m\u001b[39m'\u001b[39m)\n\u001b[1;32m      <a href='vscode-notebook-cell:/Users/RevanMacQueen/Projects/BGT-Project/repeated_game/presentation_fit.ipynb#ch0000008?line=7'>8</a>\u001b[0m plt\u001b[39m.\u001b[39mxticks(x_pos, labels )\n",
      "File \u001b[0;32m~/opt/anaconda3/envs/bgt/lib/python3.8/site-packages/matplotlib/pyplot.py:2387\u001b[0m, in \u001b[0;36mbar\u001b[0;34m(x, height, width, bottom, align, data, **kwargs)\u001b[0m\n\u001b[1;32m   <a href='file:///Users/RevanMacQueen/opt/anaconda3/envs/bgt/lib/python3.8/site-packages/matplotlib/pyplot.py?line=2382'>2383</a>\u001b[0m \u001b[39m@_copy_docstring_and_deprecators\u001b[39m(Axes\u001b[39m.\u001b[39mbar)\n\u001b[1;32m   <a href='file:///Users/RevanMacQueen/opt/anaconda3/envs/bgt/lib/python3.8/site-packages/matplotlib/pyplot.py?line=2383'>2384</a>\u001b[0m \u001b[39mdef\u001b[39;00m \u001b[39mbar\u001b[39m(\n\u001b[1;32m   <a href='file:///Users/RevanMacQueen/opt/anaconda3/envs/bgt/lib/python3.8/site-packages/matplotlib/pyplot.py?line=2384'>2385</a>\u001b[0m         x, height, width\u001b[39m=\u001b[39m\u001b[39m0.8\u001b[39m, bottom\u001b[39m=\u001b[39m\u001b[39mNone\u001b[39;00m, \u001b[39m*\u001b[39m, align\u001b[39m=\u001b[39m\u001b[39m'\u001b[39m\u001b[39mcenter\u001b[39m\u001b[39m'\u001b[39m,\n\u001b[1;32m   <a href='file:///Users/RevanMacQueen/opt/anaconda3/envs/bgt/lib/python3.8/site-packages/matplotlib/pyplot.py?line=2385'>2386</a>\u001b[0m         data\u001b[39m=\u001b[39m\u001b[39mNone\u001b[39;00m, \u001b[39m*\u001b[39m\u001b[39m*\u001b[39mkwargs):\n\u001b[0;32m-> <a href='file:///Users/RevanMacQueen/opt/anaconda3/envs/bgt/lib/python3.8/site-packages/matplotlib/pyplot.py?line=2386'>2387</a>\u001b[0m     \u001b[39mreturn\u001b[39;00m gca()\u001b[39m.\u001b[39;49mbar(\n\u001b[1;32m   <a href='file:///Users/RevanMacQueen/opt/anaconda3/envs/bgt/lib/python3.8/site-packages/matplotlib/pyplot.py?line=2387'>2388</a>\u001b[0m         x, height, width\u001b[39m=\u001b[39;49mwidth, bottom\u001b[39m=\u001b[39;49mbottom, align\u001b[39m=\u001b[39;49malign,\n\u001b[1;32m   <a href='file:///Users/RevanMacQueen/opt/anaconda3/envs/bgt/lib/python3.8/site-packages/matplotlib/pyplot.py?line=2388'>2389</a>\u001b[0m         \u001b[39m*\u001b[39;49m\u001b[39m*\u001b[39;49m({\u001b[39m\"\u001b[39;49m\u001b[39mdata\u001b[39;49m\u001b[39m\"\u001b[39;49m: data} \u001b[39mif\u001b[39;49;00m data \u001b[39mis\u001b[39;49;00m \u001b[39mnot\u001b[39;49;00m \u001b[39mNone\u001b[39;49;00m \u001b[39melse\u001b[39;49;00m {}), \u001b[39m*\u001b[39;49m\u001b[39m*\u001b[39;49mkwargs)\n",
      "File \u001b[0;32m~/opt/anaconda3/envs/bgt/lib/python3.8/site-packages/matplotlib/__init__.py:1412\u001b[0m, in \u001b[0;36m_preprocess_data.<locals>.inner\u001b[0;34m(ax, data, *args, **kwargs)\u001b[0m\n\u001b[1;32m   <a href='file:///Users/RevanMacQueen/opt/anaconda3/envs/bgt/lib/python3.8/site-packages/matplotlib/__init__.py?line=1408'>1409</a>\u001b[0m \u001b[39m@functools\u001b[39m\u001b[39m.\u001b[39mwraps(func)\n\u001b[1;32m   <a href='file:///Users/RevanMacQueen/opt/anaconda3/envs/bgt/lib/python3.8/site-packages/matplotlib/__init__.py?line=1409'>1410</a>\u001b[0m \u001b[39mdef\u001b[39;00m \u001b[39minner\u001b[39m(ax, \u001b[39m*\u001b[39margs, data\u001b[39m=\u001b[39m\u001b[39mNone\u001b[39;00m, \u001b[39m*\u001b[39m\u001b[39m*\u001b[39mkwargs):\n\u001b[1;32m   <a href='file:///Users/RevanMacQueen/opt/anaconda3/envs/bgt/lib/python3.8/site-packages/matplotlib/__init__.py?line=1410'>1411</a>\u001b[0m     \u001b[39mif\u001b[39;00m data \u001b[39mis\u001b[39;00m \u001b[39mNone\u001b[39;00m:\n\u001b[0;32m-> <a href='file:///Users/RevanMacQueen/opt/anaconda3/envs/bgt/lib/python3.8/site-packages/matplotlib/__init__.py?line=1411'>1412</a>\u001b[0m         \u001b[39mreturn\u001b[39;00m func(ax, \u001b[39m*\u001b[39;49m\u001b[39mmap\u001b[39;49m(sanitize_sequence, args), \u001b[39m*\u001b[39;49m\u001b[39m*\u001b[39;49mkwargs)\n\u001b[1;32m   <a href='file:///Users/RevanMacQueen/opt/anaconda3/envs/bgt/lib/python3.8/site-packages/matplotlib/__init__.py?line=1413'>1414</a>\u001b[0m     bound \u001b[39m=\u001b[39m new_sig\u001b[39m.\u001b[39mbind(ax, \u001b[39m*\u001b[39margs, \u001b[39m*\u001b[39m\u001b[39m*\u001b[39mkwargs)\n\u001b[1;32m   <a href='file:///Users/RevanMacQueen/opt/anaconda3/envs/bgt/lib/python3.8/site-packages/matplotlib/__init__.py?line=1414'>1415</a>\u001b[0m     auto_label \u001b[39m=\u001b[39m (bound\u001b[39m.\u001b[39marguments\u001b[39m.\u001b[39mget(label_namer)\n\u001b[1;32m   <a href='file:///Users/RevanMacQueen/opt/anaconda3/envs/bgt/lib/python3.8/site-packages/matplotlib/__init__.py?line=1415'>1416</a>\u001b[0m                   \u001b[39mor\u001b[39;00m bound\u001b[39m.\u001b[39mkwargs\u001b[39m.\u001b[39mget(label_namer))\n",
      "File \u001b[0;32m~/opt/anaconda3/envs/bgt/lib/python3.8/site-packages/matplotlib/axes/_axes.py:2342\u001b[0m, in \u001b[0;36mAxes.bar\u001b[0;34m(self, x, height, width, bottom, align, **kwargs)\u001b[0m\n\u001b[1;32m   <a href='file:///Users/RevanMacQueen/opt/anaconda3/envs/bgt/lib/python3.8/site-packages/matplotlib/axes/_axes.py?line=2338'>2339</a>\u001b[0m     \u001b[39mif\u001b[39;00m yerr \u001b[39mis\u001b[39;00m \u001b[39mnot\u001b[39;00m \u001b[39mNone\u001b[39;00m:\n\u001b[1;32m   <a href='file:///Users/RevanMacQueen/opt/anaconda3/envs/bgt/lib/python3.8/site-packages/matplotlib/axes/_axes.py?line=2339'>2340</a>\u001b[0m         yerr \u001b[39m=\u001b[39m \u001b[39mself\u001b[39m\u001b[39m.\u001b[39m_convert_dx(yerr, y0, y, \u001b[39mself\u001b[39m\u001b[39m.\u001b[39mconvert_yunits)\n\u001b[0;32m-> <a href='file:///Users/RevanMacQueen/opt/anaconda3/envs/bgt/lib/python3.8/site-packages/matplotlib/axes/_axes.py?line=2341'>2342</a>\u001b[0m x, height, width, y, linewidth, hatch \u001b[39m=\u001b[39m np\u001b[39m.\u001b[39;49mbroadcast_arrays(\n\u001b[1;32m   <a href='file:///Users/RevanMacQueen/opt/anaconda3/envs/bgt/lib/python3.8/site-packages/matplotlib/axes/_axes.py?line=2342'>2343</a>\u001b[0m     \u001b[39m# Make args iterable too.\u001b[39;49;00m\n\u001b[1;32m   <a href='file:///Users/RevanMacQueen/opt/anaconda3/envs/bgt/lib/python3.8/site-packages/matplotlib/axes/_axes.py?line=2343'>2344</a>\u001b[0m     np\u001b[39m.\u001b[39;49matleast_1d(x), height, width, y, linewidth, hatch)\n\u001b[1;32m   <a href='file:///Users/RevanMacQueen/opt/anaconda3/envs/bgt/lib/python3.8/site-packages/matplotlib/axes/_axes.py?line=2345'>2346</a>\u001b[0m \u001b[39m# Now that units have been converted, set the tick locations.\u001b[39;00m\n\u001b[1;32m   <a href='file:///Users/RevanMacQueen/opt/anaconda3/envs/bgt/lib/python3.8/site-packages/matplotlib/axes/_axes.py?line=2346'>2347</a>\u001b[0m \u001b[39mif\u001b[39;00m orientation \u001b[39m==\u001b[39m \u001b[39m'\u001b[39m\u001b[39mvertical\u001b[39m\u001b[39m'\u001b[39m:\n",
      "File \u001b[0;32m<__array_function__ internals>:180\u001b[0m, in \u001b[0;36mbroadcast_arrays\u001b[0;34m(*args, **kwargs)\u001b[0m\n",
      "File \u001b[0;32m~/opt/anaconda3/envs/bgt/lib/python3.8/site-packages/numpy/lib/stride_tricks.py:539\u001b[0m, in \u001b[0;36mbroadcast_arrays\u001b[0;34m(subok, *args)\u001b[0m\n\u001b[1;32m    <a href='file:///Users/RevanMacQueen/opt/anaconda3/envs/bgt/lib/python3.8/site-packages/numpy/lib/stride_tricks.py?line=531'>532</a>\u001b[0m \u001b[39m# nditer is not used here to avoid the limit of 32 arrays.\u001b[39;00m\n\u001b[1;32m    <a href='file:///Users/RevanMacQueen/opt/anaconda3/envs/bgt/lib/python3.8/site-packages/numpy/lib/stride_tricks.py?line=532'>533</a>\u001b[0m \u001b[39m# Otherwise, something like the following one-liner would suffice:\u001b[39;00m\n\u001b[1;32m    <a href='file:///Users/RevanMacQueen/opt/anaconda3/envs/bgt/lib/python3.8/site-packages/numpy/lib/stride_tricks.py?line=533'>534</a>\u001b[0m \u001b[39m# return np.nditer(args, flags=['multi_index', 'zerosize_ok'],\u001b[39;00m\n\u001b[1;32m    <a href='file:///Users/RevanMacQueen/opt/anaconda3/envs/bgt/lib/python3.8/site-packages/numpy/lib/stride_tricks.py?line=534'>535</a>\u001b[0m \u001b[39m#                  order='C').itviews\u001b[39;00m\n\u001b[1;32m    <a href='file:///Users/RevanMacQueen/opt/anaconda3/envs/bgt/lib/python3.8/site-packages/numpy/lib/stride_tricks.py?line=536'>537</a>\u001b[0m args \u001b[39m=\u001b[39m [np\u001b[39m.\u001b[39marray(_m, copy\u001b[39m=\u001b[39m\u001b[39mFalse\u001b[39;00m, subok\u001b[39m=\u001b[39msubok) \u001b[39mfor\u001b[39;00m _m \u001b[39min\u001b[39;00m args]\n\u001b[0;32m--> <a href='file:///Users/RevanMacQueen/opt/anaconda3/envs/bgt/lib/python3.8/site-packages/numpy/lib/stride_tricks.py?line=538'>539</a>\u001b[0m shape \u001b[39m=\u001b[39m _broadcast_shape(\u001b[39m*\u001b[39;49margs)\n\u001b[1;32m    <a href='file:///Users/RevanMacQueen/opt/anaconda3/envs/bgt/lib/python3.8/site-packages/numpy/lib/stride_tricks.py?line=540'>541</a>\u001b[0m \u001b[39mif\u001b[39;00m \u001b[39mall\u001b[39m(array\u001b[39m.\u001b[39mshape \u001b[39m==\u001b[39m shape \u001b[39mfor\u001b[39;00m array \u001b[39min\u001b[39;00m args):\n\u001b[1;32m    <a href='file:///Users/RevanMacQueen/opt/anaconda3/envs/bgt/lib/python3.8/site-packages/numpy/lib/stride_tricks.py?line=541'>542</a>\u001b[0m     \u001b[39m# Common case where nothing needs to be broadcasted.\u001b[39;00m\n\u001b[1;32m    <a href='file:///Users/RevanMacQueen/opt/anaconda3/envs/bgt/lib/python3.8/site-packages/numpy/lib/stride_tricks.py?line=542'>543</a>\u001b[0m     \u001b[39mreturn\u001b[39;00m args\n",
      "File \u001b[0;32m~/opt/anaconda3/envs/bgt/lib/python3.8/site-packages/numpy/lib/stride_tricks.py:421\u001b[0m, in \u001b[0;36m_broadcast_shape\u001b[0;34m(*args)\u001b[0m\n\u001b[1;32m    <a href='file:///Users/RevanMacQueen/opt/anaconda3/envs/bgt/lib/python3.8/site-packages/numpy/lib/stride_tricks.py?line=415'>416</a>\u001b[0m \u001b[39m\"\"\"Returns the shape of the arrays that would result from broadcasting the\u001b[39;00m\n\u001b[1;32m    <a href='file:///Users/RevanMacQueen/opt/anaconda3/envs/bgt/lib/python3.8/site-packages/numpy/lib/stride_tricks.py?line=416'>417</a>\u001b[0m \u001b[39msupplied arrays against each other.\u001b[39;00m\n\u001b[1;32m    <a href='file:///Users/RevanMacQueen/opt/anaconda3/envs/bgt/lib/python3.8/site-packages/numpy/lib/stride_tricks.py?line=417'>418</a>\u001b[0m \u001b[39m\"\"\"\u001b[39;00m\n\u001b[1;32m    <a href='file:///Users/RevanMacQueen/opt/anaconda3/envs/bgt/lib/python3.8/site-packages/numpy/lib/stride_tricks.py?line=418'>419</a>\u001b[0m \u001b[39m# use the old-iterator because np.nditer does not handle size 0 arrays\u001b[39;00m\n\u001b[1;32m    <a href='file:///Users/RevanMacQueen/opt/anaconda3/envs/bgt/lib/python3.8/site-packages/numpy/lib/stride_tricks.py?line=419'>420</a>\u001b[0m \u001b[39m# consistently\u001b[39;00m\n\u001b[0;32m--> <a href='file:///Users/RevanMacQueen/opt/anaconda3/envs/bgt/lib/python3.8/site-packages/numpy/lib/stride_tricks.py?line=420'>421</a>\u001b[0m b \u001b[39m=\u001b[39m np\u001b[39m.\u001b[39;49mbroadcast(\u001b[39m*\u001b[39;49margs[:\u001b[39m32\u001b[39;49m])\n\u001b[1;32m    <a href='file:///Users/RevanMacQueen/opt/anaconda3/envs/bgt/lib/python3.8/site-packages/numpy/lib/stride_tricks.py?line=421'>422</a>\u001b[0m \u001b[39m# unfortunately, it cannot handle 32 or more arguments directly\u001b[39;00m\n\u001b[1;32m    <a href='file:///Users/RevanMacQueen/opt/anaconda3/envs/bgt/lib/python3.8/site-packages/numpy/lib/stride_tricks.py?line=422'>423</a>\u001b[0m \u001b[39mfor\u001b[39;00m pos \u001b[39min\u001b[39;00m \u001b[39mrange\u001b[39m(\u001b[39m32\u001b[39m, \u001b[39mlen\u001b[39m(args), \u001b[39m31\u001b[39m):\n\u001b[1;32m    <a href='file:///Users/RevanMacQueen/opt/anaconda3/envs/bgt/lib/python3.8/site-packages/numpy/lib/stride_tricks.py?line=423'>424</a>\u001b[0m     \u001b[39m# ironically, np.broadcast does not properly handle np.broadcast\u001b[39;00m\n\u001b[1;32m    <a href='file:///Users/RevanMacQueen/opt/anaconda3/envs/bgt/lib/python3.8/site-packages/numpy/lib/stride_tricks.py?line=424'>425</a>\u001b[0m     \u001b[39m# objects (it treats them as scalars)\u001b[39;00m\n\u001b[1;32m    <a href='file:///Users/RevanMacQueen/opt/anaconda3/envs/bgt/lib/python3.8/site-packages/numpy/lib/stride_tricks.py?line=425'>426</a>\u001b[0m     \u001b[39m# use broadcasting to avoid allocating the full array\u001b[39;00m\n",
      "\u001b[0;31mValueError\u001b[0m: shape mismatch: objects cannot be broadcast to a single shape.  Mismatch is between arg 0 with shape (4,) and arg 1 with shape (5,)."
     ]
    },
    {
     "data": {
      "image/png": "[encoded data removed]",
      "text/plain": [
       "<Figure size 432x288 with 1 Axes>"
      ]
     },
     "metadata": {
      "needs_background": "light"
     },
     "output_type": "display_data"
    }
   ],
   "source": [
    "labels = ['Unif.',  'LK(1)', 'LK(2)', 'BMM(1)' ]\n",
    "\n",
    "start = 150\n",
    "\n",
    "x_pos = np.arange(0, len(labels))\n",
    "plt.bar(x_pos, train_ll-start, bottom=start)\n",
    "plt.ylabel('Negative Log Likelihood')\n",
    "plt.xticks(x_pos, labels )\n",
    "\n",
    "\n",
    "plt.gca().spines['top'].set_visible(False)\n",
    "plt.gca().spines['right'].set_visible(False)\n",
    "plt.savefig('presentation_figures/new_models.png', dpi=300, bbox_inches='tight')\n"
   ]
  },
  {
   "cell_type": "code",
   "execution_count": 83,
   "metadata": {},
   "outputs": [
    {
     "data": {
      "image/png": "[encoded data removed]",
      "text/plain": [
       "<Figure size 432x288 with 1 Axes>"
      ]
     },
     "metadata": {
      "needs_background": "light"
     },
     "output_type": "display_data"
    }
   ],
   "source": [
    "start = 0\n",
    "x_pos = np.arange(0, len(labels))\n",
    "plt.bar(x_pos, test_ll-start, bottom=start)\n",
    "plt.ylabel('Negative Log Likelihood')\n",
    "plt.xticks(x_pos, labels)\n",
    "plt.gca().spines['top'].set_visible(False)\n",
    "plt.gca().spines['right'].set_visible(False)\n",
    "plt.savefig('presentation_figures/new_models_test.png', dpi=300, bbox_inches='tight')"
   ]
  },
  {
   "cell_type": "code",
   "execution_count": null,
   "metadata": {},
   "outputs": [],
   "source": [
    "def k_folds(data, m):\n",
    "    results = []\n",
    "    test_losses = []\n",
    "    for i in range(len(data)):\n",
    "        train_data = deepcopy(data)\n",
    "        test_data = deepcopy(train_data[i])\n",
    "        del train_data[i]\n",
    "\n",
    "        res = m.fit(train_data)\n",
    "        params = res.x\n",
    "        test_loss = m.log_likelihood(params, [test_data])\n",
    "        results.append(res)\n",
    "        test_losses.append(test_loss)\n",
    "\n",
    "    return results, test_losses"
   ]
  },
  {
   "cell_type": "code",
   "execution_count": 57,
   "metadata": {},
   "outputs": [],
   "source": [
    "test_losses  = np.zeros((len(models), len(data)))\n",
    "for m_i, m in enumerate(models):\n",
    "    for i in range(len(data)):\n",
    "            train_data = deepcopy(data)\n",
    "            test_data = deepcopy(train_data[i])\n",
    "            del train_data[i]\n",
    "            res = m.fit(train_data)\n",
    "            params = res.x\n",
    "            test_losses[m_i, i] = m.log_likelihood(params, [test_data])"
   ]
  },
  {
   "cell_type": "code",
   "execution_count": 59,
   "metadata": {},
   "outputs": [],
   "source": [
    "test_losses_unif = np.zeros(len(data))\n",
    "\n",
    "for i in range(len(data)):\n",
    "        train_data = deepcopy(data)\n",
    "        test_data = deepcopy(train_data[i])\n",
    "        test_losses_unif [i] = ll_uniform([test_data])"
   ]
  },
  {
   "cell_type": "code",
   "execution_count": 60,
   "metadata": {},
   "outputs": [
    {
     "data": {
      "text/plain": [
       "array([ 6.93147181,  4.15888308, 16.63553233,  6.93147181,  9.70406053,\n",
       "        5.54517744, 19.40812106,  2.77258872,  6.93147181,  4.15888308,\n",
       "        5.54517744,  2.77258872, 12.47664925, 15.24923797,  5.54517744,\n",
       "        8.31776617,  5.54517744,  2.77258872,  9.70406053,  6.93147181,\n",
       "        4.15888308,  4.15888308,  5.54517744, 11.09035489])"
      ]
     },
     "execution_count": 60,
     "metadata": {},
     "output_type": "execute_result"
    }
   ],
   "source": [
    "test_losses_unif"
   ]
  },
  {
   "cell_type": "code",
   "execution_count": 84,
   "metadata": {},
   "outputs": [
    {
     "data": {
      "text/plain": [
       "array([ 0.18166277,  0.30053515, -0.7928463 ])"
      ]
     },
     "execution_count": 84,
     "metadata": {},
     "output_type": "execute_result"
    }
   ],
   "source": [
    "np.mean(test_losses-test_losses_unif, axis=1)"
   ]
  }
 ],
 "metadata": {
  "interpreter": {
   "hash": "174d5a967417a2ba15b92fee30b6658756f13acfa6c5a4bc13885d05104c7799"
  },
  "kernelspec": {
   "display_name": "Python 3.8.12 ('bgt')",
   "language": "python",
   "name": "python3"
  },
  "language_info": {
   "codemirror_mode": {
    "name": "ipython",
    "version": 3
   },
   "file_extension": ".py",
   "mimetype": "text/x-python",
   "name": "python",
   "nbconvert_exporter": "python",
   "pygments_lexer": "ipython3",
   "version": "3.8.12"
  },
  "orig_nbformat": 4
 },
 "nbformat": 4,
 "nbformat_minor": 2
}
