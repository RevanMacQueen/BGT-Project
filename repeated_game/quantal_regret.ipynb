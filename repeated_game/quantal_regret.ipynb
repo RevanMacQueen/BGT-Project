{
 "cells": [
  {
   "cell_type": "code",
   "execution_count": 29,
   "metadata": {},
   "outputs": [],
   "source": [
    "import csv\n",
    "import numpy as np\n",
    "import pandas as pd\n",
    "import utils \n",
    "import seaborn as sns\n",
    "\n",
    "from scipy.optimize import minimize, LinearConstraint\n",
    "from scipy.special import softmax\n",
    "\n",
    "import matplotlib.pyplot as plt"
   ]
  },
  {
   "cell_type": "code",
   "execution_count": 138,
   "metadata": {},
   "outputs": [],
   "source": [
    "data = np.genfromtxt('data_new.csv', delimiter=',', dtype=str)\n",
    "data = np.delete(data, 0, 0)\n",
    "\n",
    "new_data = []\n",
    "\n",
    "# turn each game into entry in this array\n",
    "\n",
    "def remove_blank(l):\n",
    "    return list(filter(lambda a: a != '', l))\n",
    "\n",
    "def replace_letters(l):\n",
    "   return [[1,0] if x=='c' else [0, 1] for x in l]\n",
    "\n",
    "for i in range(0, data.shape[0], 2):\n",
    "    p1 = data[i]\n",
    "    p2 = data[i+1]\n",
    "\n",
    "    game = int(p1[0])\n",
    "    player1 = p1[2]\n",
    "    player2 = p2[2]\n",
    "    p1_actions = np.array(replace_letters(remove_blank(p1[3:]))).T\n",
    "    p2_actions =  np.array(replace_letters(remove_blank(p2[3:]))).T\n",
    "   \n",
    "    actions =  [p1_actions, p2_actions]\n",
    "\n",
    "    new_data.append([game, player1, player2, actions])\n",
    "df = pd.DataFrame(new_data)\n",
    "df.columns = ['Game', 'Player_1', 'Player_2', 'Actions']\n",
    "data = list(df.Actions)"
   ]
  },
  {
   "cell_type": "code",
   "execution_count": 163,
   "metadata": {},
   "outputs": [],
   "source": [
    "from utils import expected_utility\n",
    "\n",
    "payoffs = np.zeros([2, 2, 2])\n",
    "payoffs[0, :, :] = np.array([[0, -1],\n",
    "                             [1, -2 ]])\n",
    "\n",
    "def compute_quantal_regret(play, possible_values, lambda_, h=2):\n",
    "    thetas = (np.arange(0,101)/100 * (possible_values[1]- possible_values[0])) + possible_values[0]\n",
    "    num_actions = play[0].shape[0]\n",
    "    len_play =  play[0].shape[1]\n",
    "    all_regrets = []\n",
    "    estimates = np.zeros(2)\n",
    "\n",
    "    for player in range(2):\n",
    "        regrets = np.zeros((len(thetas)))\n",
    "        for theta_i, theta in enumerate(thetas):\n",
    "            payoffs_theta = np.copy(payoffs)\n",
    "            payoffs_theta[1, 1] =  payoffs_theta[1, 1] + theta\n",
    "\n",
    "            # compute empirical utility player i got\n",
    "            empirical_utility = 0 \n",
    "            for l in range(len_play):\n",
    "                a_i = play[player][:, l]\n",
    "                a_other = play[1-player][:, l]\n",
    "                empirical_utility += expected_utility([a_i, a_other], payoffs_theta)\n",
    "\n",
    "            # compute utility as it player i played action\n",
    "            fixed_action_utils = np.zeros(2)\n",
    "            for action in range(num_actions):\n",
    "                a_i = np.zeros(2)\n",
    "                a_i[action] = 1\n",
    "\n",
    "                for l in range(len_play):\n",
    "                    a_other = play[1-player][:, l]\n",
    "                    fixed_action_utils[action] += expected_utility([a_i, a_other], payoffs_theta)\n",
    "\n",
    "            regrets[theta_i] = (np.max(fixed_action_utils) - empirical_utility)/len_play\n",
    "\n",
    "        # what to find a better way to determine lambda\n",
    "\n",
    "        \n",
    "        all_regrets.append(regrets) \n",
    "        weights = np.e**(regrets* -lambda_)\n",
    "        theta_hat = np.dot(thetas, weights)/np.sum(weights)\n",
    "        estimates[player] = theta_hat\n",
    "\n",
    "    # what was the players regret at each iteration under the estimate? \n",
    "    regret_over_time_all = []\n",
    "    for player in range(2):\n",
    "        payoffs_theta = np.copy(payoffs)\n",
    "        payoffs_theta[1, 1] =  payoffs_theta[1, 1] + estimates[player]       \n",
    "        \n",
    "        empirical_utility = np.zeros(len_play)\n",
    "        regrets = np.zeros((num_actions, len_play)) # regret at each iterations\n",
    "        for l in range(len_play):\n",
    "            a_i = play[player][:, l]\n",
    "            a_other = play[1-player][:, l]\n",
    "           \n",
    "            empirical_utility[l] = expected_utility([a_i, a_other], payoffs_theta)\n",
    "\n",
    "            for action in range(num_actions):\n",
    "                a_i = np.zeros(2)\n",
    "                a_i[action] = 1\n",
    "                regrets[action, l] = expected_utility([a_i, a_other], payoffs_theta)\n",
    "\n",
    "        regret_over_time = np.zeros(len_play)\n",
    "        \n",
    "        # print(empirical_utility)\n",
    "\n",
    "        for t in range(1, len_play+1):\n",
    "            start = max(0, t-h)\n",
    "            # print(\"regreat at time {}\".format(t))\n",
    "            # print(regrets[:, :t])\n",
    "            # print(np.sum(regrets[:, :t], axis=1))\n",
    "            # print(np.sum(empirical_utility[:t]))\n",
    "            regret_over_time[t-1] = (np.max( np.sum(regrets[:,  start:t], axis=1)) - np.sum(empirical_utility[ start:t]))/ (t-start)\n",
    "\n",
    "        # print(\"erere\")\n",
    "        # print(regret_over_time)\n",
    "        regret_over_time_all.append(regret_over_time)\n",
    "\n",
    "\n",
    "\n",
    "    return estimates,  regret_over_time_all"
   ]
  },
  {
   "cell_type": "code",
   "execution_count": 140,
   "metadata": {},
   "outputs": [
    {
     "data": {
      "text/plain": [
       "[array([[1, 0, 0],\n",
       "        [0, 1, 1]]),\n",
       " array([[1, 1, 0],\n",
       "        [0, 0, 1]])]"
      ]
     },
     "execution_count": 140,
     "metadata": {},
     "output_type": "execute_result"
    }
   ],
   "source": [
    "data[1]"
   ]
  },
  {
   "cell_type": "code",
   "execution_count": 141,
   "metadata": {},
   "outputs": [
    {
     "data": {
      "text/plain": [
       "(array([ 0.03485223, -0.03485223]),\n",
       " [array([1.03485223, 0.51742611, 0.        ]),\n",
       "  array([0.96514777, 0.        , 0.34495074])])"
      ]
     },
     "execution_count": 141,
     "metadata": {},
     "output_type": "execute_result"
    }
   ],
   "source": [
    "compute_quantal_regret(data[1], [-2, 2], lambda_=1)"
   ]
  },
  {
   "cell_type": "code",
   "execution_count": 164,
   "metadata": {},
   "outputs": [],
   "source": [
    "estimates = np.zeros((2, len(data)))\n",
    "\n",
    "regrets = np.zeros(14)\n",
    "counts = np.zeros(14)\n",
    "\n",
    "for i, play in enumerate(data):\n",
    "    estimates[:, i], regrets_=  compute_quantal_regret(play, [-2, 2], lambda_=1, h=20)\n",
    "\n",
    "    for reg in regrets_:\n",
    "        for r_idx, r in enumerate(reg):\n",
    "            regrets[r_idx] += r\n",
    "            counts[r_idx] +=1\n",
    "\n",
    "        regrets_[:]"
   ]
  },
  {
   "cell_type": "code",
   "execution_count": 165,
   "metadata": {},
   "outputs": [
    {
     "data": {
      "text/plain": [
       "[<matplotlib.lines.Line2D at 0x7f8aa29a47c0>]"
      ]
     },
     "execution_count": 165,
     "metadata": {},
     "output_type": "execute_result"
    },
    {
     "data": {
      "image/png": "[encoded data removed]",
      "text/plain": [
       "<Figure size 432x288 with 1 Axes>"
      ]
     },
     "metadata": {
      "needs_background": "light"
     },
     "output_type": "display_data"
    }
   ],
   "source": [
    "plt.plot(regrets/counts)"
   ]
  },
  {
   "cell_type": "code",
   "execution_count": 170,
   "metadata": {},
   "outputs": [],
   "source": [
    "estimates = np.zeros((2, len(data)))\n",
    "\n",
    "regrets = np.zeros(14)\n",
    "counts = np.zeros(14)\n",
    "\n",
    "for i, play in enumerate(data):\n",
    "    estimates[:, i], regrets_=  compute_quantal_regret(play, [-2, 2], lambda_=0.5, h=2)\n",
    "\n",
    "    for reg in regrets_:\n",
    "        for r_idx, r in enumerate(reg):\n",
    "            regrets[r_idx] += r\n",
    "            counts[r_idx] +=1\n",
    "\n",
    "        regrets_[:]"
   ]
  },
  {
   "cell_type": "code",
   "execution_count": 171,
   "metadata": {},
   "outputs": [
    {
     "data": {
      "text/plain": [
       "[<matplotlib.lines.Line2D at 0x7f8ac16ef9a0>]"
      ]
     },
     "execution_count": 171,
     "metadata": {},
     "output_type": "execute_result"
    },
    {
     "data": {
      "image/png": "[encoded data removed]",
      "text/plain": [
       "<Figure size 432x288 with 1 Axes>"
      ]
     },
     "metadata": {
      "needs_background": "light"
     },
     "output_type": "display_data"
    }
   ],
   "source": [
    "plt.plot(regrets/counts)"
   ]
  },
  {
   "cell_type": "code",
   "execution_count": 110,
   "metadata": {},
   "outputs": [
    {
     "data": {
      "text/plain": [
       "(array([[0., 0., 0., 2., 0., 0., 0., 0., 0., 0.],\n",
       "        [0., 0., 0., 1., 1., 0., 0., 0., 0., 0.],\n",
       "        [2., 0., 0., 0., 0., 0., 0., 0., 0., 0.],\n",
       "        [0., 0., 2., 0., 0., 0., 0., 0., 0., 0.],\n",
       "        [2., 0., 0., 0., 0., 0., 0., 0., 0., 0.],\n",
       "        [1., 1., 0., 0., 0., 0., 0., 0., 0., 0.],\n",
       "        [0., 0., 0., 0., 0., 0., 1., 1., 0., 0.],\n",
       "        [1., 1., 0., 0., 0., 0., 0., 0., 0., 0.],\n",
       "        [0., 0., 2., 0., 0., 0., 0., 0., 0., 0.],\n",
       "        [0., 0., 0., 0., 0., 0., 0., 0., 0., 2.],\n",
       "        [0., 0., 0., 0., 0., 0., 1., 1., 0., 0.],\n",
       "        [1., 1., 0., 0., 0., 0., 0., 0., 0., 0.],\n",
       "        [1., 1., 0., 0., 0., 0., 0., 0., 0., 0.],\n",
       "        [0., 0., 0., 0., 0., 2., 0., 0., 0., 0.]]),\n",
       " array([-0.30831409, -0.22642813, -0.14454217, -0.06265621,  0.01922975,\n",
       "         0.10111571,  0.18300168,  0.26488764,  0.3467736 ,  0.42865956,\n",
       "         0.51054552]),\n",
       " <a list of 14 BarContainer objects>)"
      ]
     },
     "execution_count": 110,
     "metadata": {},
     "output_type": "execute_result"
    },
    {
     "data": {
      "image/png": "[encoded data removed]",
      "text/plain": [
       "<Figure size 432x288 with 1 Axes>"
      ]
     },
     "metadata": {
      "needs_background": "light"
     },
     "output_type": "display_data"
    }
   ],
   "source": [
    "plt.hist(estimates)"
   ]
  }
 ],
 "metadata": {
  "interpreter": {
   "hash": "174d5a967417a2ba15b92fee30b6658756f13acfa6c5a4bc13885d05104c7799"
  },
  "kernelspec": {
   "display_name": "Python 3.8.12 ('bgt')",
   "language": "python",
   "name": "python3"
  },
  "language_info": {
   "codemirror_mode": {
    "name": "ipython",
    "version": 3
   },
   "file_extension": ".py",
   "mimetype": "text/x-python",
   "name": "python",
   "nbconvert_exporter": "python",
   "pygments_lexer": "ipython3",
   "version": "3.8.12"
  },
  "orig_nbformat": 4
 },
 "nbformat": 4,
 "nbformat_minor": 2
}
